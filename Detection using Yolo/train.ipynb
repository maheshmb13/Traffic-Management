{
  "nbformat": 4,
  "nbformat_minor": 0,
  "metadata": {
    "colab": {
      "name": "mb.ipynb",
      "provenance": [],
      "collapsed_sections": []
    },
    "kernelspec": {
      "name": "python3",
      "display_name": "Python 3"
    },
    "accelerator": "GPU"
  },
  "cells": [
    {
      "cell_type": "code",
      "metadata": {
        "id": "8WPZ7UQwcuzQ",
        "colab_type": "code",
        "colab": {}
      },
      "source": [
        "from google.colab import drive\n",
        "drive.mount('/content/gdrive/')"
      ],
      "execution_count": null,
      "outputs": []
    },
    {
      "cell_type": "code",
      "metadata": {
        "id": "FL0KHVEVdU5K",
        "colab_type": "code",
        "colab": {}
      },
      "source": [
        "!sudo apt-get install tree\n",
        "!ls -la \"/content/gdrive/\""
      ],
      "execution_count": null,
      "outputs": []
    },
    {
      "cell_type": "code",
      "metadata": {
        "id": "Cf-J9zATdllq",
        "colab_type": "code",
        "colab": {}
      },
      "source": [
        "!tree /content/gdrive/My\\ Drive/Dark/\n",
        "!/usr/local/cuda/bin/nvcc --version"
      ],
      "execution_count": null,
      "outputs": []
    },
    {
      "cell_type": "code",
      "metadata": {
        "id": "6e7D-poKds6-",
        "colab_type": "code",
        "colab": {}
      },
      "source": [
        "!tar -xzvf gdrive/My\\ Drive/Dark/cuDNN/cudnn-10.0-linux-x64-v7.5.0.56.solitairetheme8 -C /usr/local/\n",
        "!chmod a+r /usr/local/cuda/include/cudnn.h"
      ],
      "execution_count": null,
      "outputs": []
    },
    {
      "cell_type": "code",
      "metadata": {
        "id": "Qwle67yEdxte",
        "colab_type": "code",
        "colab": {}
      },
      "source": [
        "!cat /usr/local/cuda/include/cudnn.h | grep CUDNN_MAJOR -A 2"
      ],
      "execution_count": null,
      "outputs": []
    },
    {
      "cell_type": "code",
      "metadata": {
        "id": "I5I9yAJ9d0ea",
        "colab_type": "code",
        "colab": {}
      },
      "source": [
        "!git clone https://github.com/pjreddie/darknet\n",
        "%cd darknet"
      ],
      "execution_count": null,
      "outputs": []
    },
    {
      "cell_type": "code",
      "metadata": {
        "id": "jAixEJLqd47O",
        "colab_type": "code",
        "colab": {}
      },
      "source": [
        "# !sed -i 's/GPU=0/GPU=1/g' Makefile\n",
        "!sed -i 's/CUDNN=1/CUDNN=0/g' Makefile\n",
        "!sed -i 's/OPENCV=1/OPENCV=0/g' Makefile\n",
        "# !sed -i 's/OPENCV=0/OPENCV=1/g' Makefile\n"
      ],
      "execution_count": null,
      "outputs": []
    },
    {
      "cell_type": "code",
      "metadata": {
        "id": "UWgvAKBNeT9C",
        "colab_type": "code",
        "colab": {}
      },
      "source": [
        "!make"
      ],
      "execution_count": null,
      "outputs": []
    },
    {
      "cell_type": "code",
      "metadata": {
        "id": "J6tcnkt_eiuu",
        "colab_type": "code",
        "colab": {}
      },
      "source": [
        "!cp -r /content/gdrive/My\\ Drive/Dark/001 ./001"
      ],
      "execution_count": null,
      "outputs": []
    },
    {
      "cell_type": "code",
      "metadata": {
        "id": "ZT03EPjIsUfy",
        "colab_type": "code",
        "colab": {}
      },
      "source": [
        "!mkdir 001"
      ],
      "execution_count": null,
      "outputs": []
    },
    {
      "cell_type": "code",
      "metadata": {
        "id": "qhEQUlhIimry",
        "colab_type": "code",
        "colab": {}
      },
      "source": [
        "!chmod +x ./darknet"
      ],
      "execution_count": null,
      "outputs": []
    },
    {
      "cell_type": "code",
      "metadata": {
        "id": "UnmKlcsRivpD",
        "colab_type": "code",
        "colab": {}
      },
      "source": [
        "!cp /content/gdrive/My\\ Drive/Dark/test.txt ./"
      ],
      "execution_count": null,
      "outputs": []
    },
    {
      "cell_type": "code",
      "metadata": {
        "id": "q8kz8afjjoFF",
        "colab_type": "code",
        "colab": {}
      },
      "source": [
        "ls /content/darknet/img"
      ],
      "execution_count": null,
      "outputs": []
    },
    {
      "cell_type": "code",
      "metadata": {
        "id": "NUaFav7mlJnf",
        "colab_type": "code",
        "colab": {}
      },
      "source": [
        "!./darknet detector train \"/content/gdrive/My Drive/Dark/obj.data\" \"/content/gdrive/My Drive/Dark/yolov3.cfg\" \"/content/gdrive/My Drive/Dark/darknet53.conv.74\" -dont_show "
      ],
      "execution_count": null,
      "outputs": []
    }
  ]
}