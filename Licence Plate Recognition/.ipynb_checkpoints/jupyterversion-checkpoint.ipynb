{
 "cells": [
  {
   "cell_type": "code",
   "execution_count": 1,
   "metadata": {
    "colab": {},
    "colab_type": "code",
    "id": "ycRjhI25UC-P"
   },
   "outputs": [],
   "source": [
    "import matplotlib.pyplot as plt"
   ]
  },
  {
   "cell_type": "code",
   "execution_count": 2,
   "metadata": {
    "colab": {},
    "colab_type": "code",
    "id": "MzopHrMvUC-Z"
   },
   "outputs": [],
   "source": [
    "import numpy as np\n",
    "import cv2\n",
    "\n",
    "# Match contours to license plate or character template\n",
    "def find_contours(dimensions, img) :\n",
    "\n",
    "    # Find all contours in the image\n",
    "    cntrs, _ = cv2.findContours(img.copy(), cv2.RETR_TREE, cv2.CHAIN_APPROX_SIMPLE)\n",
    "\n",
    "    # Retrieve potential dimensions\n",
    "    lower_width = dimensions[0]\n",
    "    upper_width = dimensions[1]\n",
    "    lower_height = dimensions[2]\n",
    "    upper_height = dimensions[3]\n",
    "    \n",
    "    # Check largest 5 or  15 contours for license plate or character respectively\n",
    "    cntrs = sorted(cntrs, key=cv2.contourArea, reverse=True)[:15]\n",
    "    \n",
    "    ii = cv2.imread('contour.jpg')\n",
    "    \n",
    "    x_cntr_list = []\n",
    "    target_contours = []\n",
    "    img_res = []\n",
    "    for cntr in cntrs :\n",
    "        #detects contour in binary image and returns the coordinates of rectangle enclosing it\n",
    "        intX, intY, intWidth, intHeight = cv2.boundingRect(cntr)\n",
    "        \n",
    "        #checking the dimensions of the contour to filter out the characters by contour's size\n",
    "        if intWidth > lower_width and intWidth < upper_width and intHeight > lower_height and intHeight < upper_height :\n",
    "            x_cntr_list.append(intX) #stores the x coordinate of the character's contour, to used later for indexing the contours\n",
    "\n",
    "            char_copy = np.zeros((44,24))\n",
    "            #extracting each character using the enclosing rectangle's coordinates.\n",
    "            char = img[intY:intY+intHeight, intX:intX+intWidth]\n",
    "            char = cv2.resize(char, (20, 40))\n",
    "            \n",
    "            cv2.rectangle(ii, (intX,intY), (intWidth+intX, intY+intHeight), (50,21,200), 2)\n",
    "            plt.imshow(ii, cmap='gray')\n",
    "\n",
    "#             Make result formatted for classification: invert colors\n",
    "            char = cv2.subtract(255, char)\n",
    "\n",
    "            # Resize the image to 24x44 with black border\n",
    "            char_copy[2:42, 2:22] = char\n",
    "            char_copy[0:2, :] = 0\n",
    "            char_copy[:, 0:2] = 0\n",
    "            char_copy[42:44, :] = 0\n",
    "            char_copy[:, 22:24] = 0\n",
    "\n",
    "            img_res.append(char_copy) #List that stores the character's binary image (unsorted)\n",
    "            \n",
    "    #Return characters on ascending order with respect to the x-coordinate (most-left character first)\n",
    "            \n",
    "    plt.show()\n",
    "    #arbitrary function that stores sorted list of character indeces\n",
    "    indices = sorted(range(len(x_cntr_list)), key=lambda k: x_cntr_list[k])\n",
    "    img_res_copy = []\n",
    "    for idx in indices:\n",
    "        img_res_copy.append(img_res[idx])# stores character images according to their index\n",
    "    img_res = np.array(img_res_copy)\n",
    "\n",
    "    return img_res"
   ]
  },
  {
   "cell_type": "code",
   "execution_count": 3,
   "metadata": {
    "colab": {},
    "colab_type": "code",
    "id": "h23diSmEUC-e"
   },
   "outputs": [],
   "source": [
    "# Find characters in the resulting images\n",
    "def segment_characters(image) :\n",
    "\n",
    "    # Preprocess cropped license plate image\n",
    "    img_lp = cv2.resize(image, (333, 75))\n",
    "    img_gray_lp = cv2.cvtColor(img_lp, cv2.COLOR_BGR2GRAY)\n",
    "    _, img_binary_lp = cv2.threshold(img_gray_lp, 200, 255, cv2.THRESH_BINARY+cv2.THRESH_OTSU)\n",
    "    img_binary_lp = cv2.erode(img_binary_lp, (3,3))\n",
    "    img_binary_lp = cv2.dilate(img_binary_lp, (3,3))\n",
    "\n",
    "    LP_WIDTH = img_binary_lp.shape[0]\n",
    "    LP_HEIGHT = img_binary_lp.shape[1]\n",
    "\n",
    "    # Make borders white\n",
    "    img_binary_lp[0:3,:] = 255\n",
    "    img_binary_lp[:,0:3] = 255\n",
    "    img_binary_lp[72:75,:] = 255\n",
    "    img_binary_lp[:,330:333] = 255\n",
    "\n",
    "    # Estimations of character contours sizes of cropped license plates\n",
    "    dimensions = [LP_WIDTH/6,\n",
    "                       LP_WIDTH/2,\n",
    "                       LP_HEIGHT/10,\n",
    "                       2*LP_HEIGHT/3]\n",
    "    plt.imshow(img_binary_lp, cmap='gray')\n",
    "    plt.show()\n",
    "    cv2.imwrite('contour.jpg',img_binary_lp)\n",
    "\n",
    "    # Get contours within cropped license plate\n",
    "    char_list = find_contours(dimensions, img_binary_lp)\n",
    "\n",
    "    return char_list"
   ]
  },
  {
   "cell_type": "code",
   "execution_count": 4,
   "metadata": {
    "colab": {
     "base_uri": "https://localhost:8080/",
     "height": 237
    },
    "colab_type": "code",
    "id": "OGhFmSnYUC-j",
    "outputId": "fabb6134-d314-439b-fb85-3967f315fd1c",
    "scrolled": true
   },
   "outputs": [
    {
     "data": {
      "image/png": "[encoded data removed]",
      "text/plain": [
       "<Figure size 432x288 with 1 Axes>"
      ]
     },
     "metadata": {
      "needs_background": "light"
     },
     "output_type": "display_data"
    },
    {
     "data": {
      "image/png": "[encoded data removed]",
      "text/plain": [
       "<Figure size 432x288 with 1 Axes>"
      ]
     },
     "metadata": {
      "needs_background": "light"
     },
     "output_type": "display_data"
    }
   ],
   "source": [
    "img = cv2.imread('car_plate.png')\n",
    "char = segment_characters(img)"
   ]
  },
  {
   "cell_type": "code",
   "execution_count": 5,
   "metadata": {},
   "outputs": [
    {
     "data": {
      "text/plain": [
       "'4.1.0'"
      ]
     },
     "execution_count": 5,
     "metadata": {},
     "output_type": "execute_result"
    }
   ],
   "source": [
    "cv2. __version__"
   ]
  },
  {
   "cell_type": "code",
   "execution_count": 5,
   "metadata": {
    "colab": {
     "base_uri": "https://localhost:8080/",
     "height": 83
    },
    "colab_type": "code",
    "id": "rZoiyrDaUC-p",
    "outputId": "12c01433-ba9b-45fc-8663-ddf2f3a3cc22",
    "scrolled": true
   },
   "outputs": [
    {
     "data": {
      "image/png": "[encoded data removed]",
      "text/plain": [
       "<Figure size 432x288 with 10 Axes>"
      ]
     },
     "metadata": {
      "needs_background": "light"
     },
     "output_type": "display_data"
    }
   ],
   "source": [
    "for i in range(10):\n",
    "    plt.subplot(1, 10, i+1)\n",
    "    plt.imshow(char[i], cmap='gray')\n",
    "    plt.axis('off')"
   ]
  },
  {
   "cell_type": "markdown",
   "metadata": {
    "colab_type": "text",
    "id": "QXhqHfXLUC-9"
   },
   "source": [
    "### Model for characters"
   ]
  },
  {
   "cell_type": "code",
   "execution_count": 7,
   "metadata": {
    "colab": {},
    "colab_type": "code",
    "id": "cnH_x_PXUC_A"
   },
   "outputs": [],
   "source": [
    "import tensorflow as tf\n"
   ]
  },
  {
   "cell_type": "code",
   "execution_count": 8,
   "metadata": {
    "colab": {
     "base_uri": "https://localhost:8080/",
     "height": 51
    },
    "colab_type": "code",
    "id": "BhrsmfX9UC_p",
    "outputId": "0bd4c93b-dc04-4ca4-877b-9f084a03b550"
   },
   "outputs": [
    {
     "name": "stdout",
     "output_type": "stream",
     "text": [
      "Found 864 images belonging to 36 classes.\n",
      "Found 216 images belonging to 36 classes.\n"
     ]
    }
   ],
   "source": [
    "from tensorflow.keras.preprocessing.image import ImageDataGenerator\n",
    "train_datagen = ImageDataGenerator(rescale=1./255, width_shift_range=0.1, height_shift_range=0.1)\n",
    "train_generator = train_datagen.flow_from_directory(\n",
    "        'data/train',  # this is the target directory\n",
    "        target_size=(28,28),  # all images will be resized to 28x28\n",
    "        batch_size=1,\n",
    "        class_mode='categorical')\n",
    "\n",
    "validation_generator = train_datagen.flow_from_directory(\n",
    "        'data/val',  # this is the target directory\n",
    "        target_size=(28,28),  # all images will be resized to 28x28        batch_size=1,\n",
    "        class_mode='categorical')"
   ]
  },
  {
   "cell_type": "code",
   "execution_count": 9,
   "metadata": {
    "colab": {},
    "colab_type": "code",
    "id": "jy9Ges8McSGl"
   },
   "outputs": [],
   "source": [
    "from tensorflow.keras.models import Sequential\n",
    "from tensorflow.keras.layers import Dense, Flatten, MaxPooling2D, Dropout, Conv2D\n",
    "from tensorflow.keras import optimizers"
   ]
  },
  {
   "cell_type": "code",
   "execution_count": 14,
   "metadata": {
    "colab": {},
    "colab_type": "code",
    "id": "8IjCdBYrp4EK"
   },
   "outputs": [],
   "source": [
    "model = Sequential()\n",
    "model.add(Conv2D(32, (24,24), input_shape=(28, 28, 3), activation='relu', padding='same'))\n",
    "# model.add(Conv2D(32, (20,20), input_shape=(28, 28, 3), activation='relu', padding='same'))\n",
    "# model.add(Conv2D(32, (20,20), input_shape=(28, 28, 3), activation='relu', padding='same'))\n",
    "model.add(MaxPooling2D(pool_size=(2, 2)))\n",
    "model.add(Dropout(0.4))\n",
    "model.add(Flatten())\n",
    "model.add(Dense(128, activation='relu'))\n",
    "model.add(Dense(36, activation='softmax'))\n",
    "\n",
    "model.compile(loss='categorical_crossentropy', optimizer=optimizers.Adam(lr=0.00001), metrics=['accuracy'])"
   ]
  },
  {
   "cell_type": "code",
   "execution_count": 15,
   "metadata": {
    "colab": {},
    "colab_type": "code",
    "id": "w5aaqsHABUwx"
   },
   "outputs": [],
   "source": [
    "class stop_training_callback(tf.keras.callbacks.Callback):\n",
    "  def on_epoch_end(self, epoch, logs={}):\n",
    "    if(logs.get('val_acc') > 0.992):\n",
    "      self.model.stop_training = True"
   ]
  },
  {
   "cell_type": "code",
   "execution_count": 21,
   "metadata": {
    "colab": {
     "base_uri": "https://localhost:8080/",
     "height": 34
    },
    "colab_type": "code",
    "id": "QqoZHrC6DBY3",
    "outputId": "04893bee-16d5-44a3-db5f-221cf155ba82"
   },
   "outputs": [
    {
     "name": "stderr",
     "output_type": "stream",
     "text": [
      "'rm' is not recognized as an internal or external command,\n",
      "operable program or batch file.\n"
     ]
    }
   ],
   "source": [
    "import datetime\n",
    "!rm -rf logs\n",
    "log_dir=\"logs/fit/\" + datetime.datetime.now().strftime(\"%Y%m%d-%H%M%S\")\n",
    "tensorboard_callback = tf.keras.callbacks.TensorBoard(log_dir=log_dir, histogram_freq=1)"
   ]
  },
  {
   "cell_type": "code",
   "execution_count": 22,
   "metadata": {
    "colab": {
     "base_uri": "https://localhost:8080/",
     "height": 1000
    },
    "colab_type": "code",
    "id": "KPAtDd_Jp4BP",
    "outputId": "fbdd1ad4-32fd-40b7-eb13-61ed1db14e47"
   },
   "outputs": [
    {
     "name": "stdout",
     "output_type": "stream",
     "text": [
      "Epoch 1/80\n",
      "864/864 [==============================] - 53s 62ms/step - loss: 3.4989 - accuracy: 0.0671 - val_loss: 3.3516 - val_accuracy: 0.2238\n",
      "Epoch 2/80\n",
      "864/864 [==============================] - 29s 33ms/step - loss: 3.1588 - accuracy: 0.1910 - val_loss: 2.8456 - val_accuracy: 0.4021\n",
      "Epoch 3/80\n",
      "864/864 [==============================] - 28s 33ms/step - loss: 2.5749 - accuracy: 0.3611 - val_loss: 2.2958 - val_accuracy: 0.5487\n",
      "Epoch 4/80\n",
      "864/864 [==============================] - 29s 33ms/step - loss: 2.1254 - accuracy: 0.4583 - val_loss: 1.8771 - val_accuracy: 0.5946\n",
      "Epoch 5/80\n",
      "864/864 [==============================] - 29s 33ms/step - loss: 1.6690 - accuracy: 0.5637 - val_loss: 1.5380 - val_accuracy: 0.6632\n",
      "Epoch 6/80\n",
      "864/864 [==============================] - 30s 35ms/step - loss: 1.4454 - accuracy: 0.6157 - val_loss: 1.3175 - val_accuracy: 0.7101\n",
      "Epoch 7/80\n",
      "864/864 [==============================] - 30s 34ms/step - loss: 1.2721 - accuracy: 0.6400 - val_loss: 1.1430 - val_accuracy: 0.7410\n",
      "Epoch 8/80\n",
      "864/864 [==============================] - 27s 32ms/step - loss: 1.1204 - accuracy: 0.6829 - val_loss: 1.0214 - val_accuracy: 0.7714\n",
      "Epoch 9/80\n",
      "864/864 [==============================] - 27s 31ms/step - loss: 1.0492 - accuracy: 0.6933 - val_loss: 0.9408 - val_accuracy: 0.7849\n",
      "Epoch 10/80\n",
      "864/864 [==============================] - 27s 31ms/step - loss: 0.9326 - accuracy: 0.7234 - val_loss: 0.8320 - val_accuracy: 0.8056\n",
      "Epoch 11/80\n",
      "864/864 [==============================] - 27s 32ms/step - loss: 0.7999 - accuracy: 0.7685 - val_loss: 0.7623 - val_accuracy: 0.8113\n",
      "Epoch 12/80\n",
      "864/864 [==============================] - 28s 32ms/step - loss: 0.7653 - accuracy: 0.7859 - val_loss: 0.7346 - val_accuracy: 0.8150\n",
      "Epoch 13/80\n",
      "864/864 [==============================] - 28s 32ms/step - loss: 0.7136 - accuracy: 0.7870 - val_loss: 0.6575 - val_accuracy: 0.8437\n",
      "Epoch 14/80\n",
      "864/864 [==============================] - 27s 32ms/step - loss: 0.6637 - accuracy: 0.7986 - val_loss: 0.5950 - val_accuracy: 0.8674\n",
      "Epoch 15/80\n",
      "864/864 [==============================] - 27s 32ms/step - loss: 0.6278 - accuracy: 0.8056 - val_loss: 0.5770 - val_accuracy: 0.8542\n",
      "Epoch 16/80\n",
      "864/864 [==============================] - 29s 33ms/step - loss: 0.5602 - accuracy: 0.8287 - val_loss: 0.5246 - val_accuracy: 0.8804\n",
      "Epoch 17/80\n",
      "864/864 [==============================] - 28s 32ms/step - loss: 0.5639 - accuracy: 0.8322 - val_loss: 0.5044 - val_accuracy: 0.8744\n",
      "Epoch 18/80\n",
      "864/864 [==============================] - 28s 33ms/step - loss: 0.4816 - accuracy: 0.8519 - val_loss: 0.4552 - val_accuracy: 0.8883\n",
      "Epoch 19/80\n",
      "864/864 [==============================] - 29s 33ms/step - loss: 0.4812 - accuracy: 0.8623 - val_loss: 0.4283 - val_accuracy: 0.9041\n",
      "Epoch 20/80\n",
      "864/864 [==============================] - 28s 33ms/step - loss: 0.4579 - accuracy: 0.8623 - val_loss: 0.4561 - val_accuracy: 0.8762\n",
      "Epoch 21/80\n",
      "864/864 [==============================] - 28s 32ms/step - loss: 0.4650 - accuracy: 0.8553 - val_loss: 0.3802 - val_accuracy: 0.9108\n",
      "Epoch 22/80\n",
      "864/864 [==============================] - 28s 33ms/step - loss: 0.4032 - accuracy: 0.8796 - val_loss: 0.3582 - val_accuracy: 0.9179\n",
      "Epoch 23/80\n",
      "864/864 [==============================] - 34s 40ms/step - loss: 0.3495 - accuracy: 0.9005 - val_loss: 0.3471 - val_accuracy: 0.9137\n",
      "Epoch 24/80\n",
      "864/864 [==============================] - 34s 39ms/step - loss: 0.3698 - accuracy: 0.9016 - val_loss: 0.3504 - val_accuracy: 0.9143\n",
      "Epoch 25/80\n",
      "864/864 [==============================] - 33s 39ms/step - loss: 0.3421 - accuracy: 0.8935 - val_loss: 0.3081 - val_accuracy: 0.9278\n",
      "Epoch 26/80\n",
      "864/864 [==============================] - 33s 38ms/step - loss: 0.2847 - accuracy: 0.9259 - val_loss: 0.2952 - val_accuracy: 0.9249\n",
      "Epoch 27/80\n",
      "864/864 [==============================] - 32s 37ms/step - loss: 0.2976 - accuracy: 0.9155 - val_loss: 0.2900 - val_accuracy: 0.9267\n",
      "Epoch 28/80\n",
      "864/864 [==============================] - 30s 35ms/step - loss: 0.2779 - accuracy: 0.9155 - val_loss: 0.2376 - val_accuracy: 0.9441\n",
      "Epoch 29/80\n",
      "864/864 [==============================] - 30s 35ms/step - loss: 0.2826 - accuracy: 0.9109 - val_loss: 0.2496 - val_accuracy: 0.9378\n",
      "Epoch 30/80\n",
      "864/864 [==============================] - 30s 34ms/step - loss: 0.2541 - accuracy: 0.9236 - val_loss: 0.2383 - val_accuracy: 0.9427\n",
      "Epoch 31/80\n",
      "864/864 [==============================] - 30s 34ms/step - loss: 0.2416 - accuracy: 0.9248 - val_loss: 0.2329 - val_accuracy: 0.9354\n",
      "Epoch 32/80\n",
      "864/864 [==============================] - 31s 35ms/step - loss: 0.2518 - accuracy: 0.9306 - val_loss: 0.2292 - val_accuracy: 0.9432\n",
      "Epoch 33/80\n",
      "864/864 [==============================] - 28s 33ms/step - loss: 0.2306 - accuracy: 0.9236 - val_loss: 0.1956 - val_accuracy: 0.9546\n",
      "Epoch 34/80\n",
      "864/864 [==============================] - 28s 33ms/step - loss: 0.2201 - accuracy: 0.9352 - val_loss: 0.2089 - val_accuracy: 0.9421\n",
      "Epoch 35/80\n",
      "864/864 [==============================] - 30s 34ms/step - loss: 0.2233 - accuracy: 0.9306 - val_loss: 0.1878 - val_accuracy: 0.9594\n",
      "Epoch 36/80\n",
      "864/864 [==============================] - 28s 32ms/step - loss: 0.2026 - accuracy: 0.9410 - val_loss: 0.2046 - val_accuracy: 0.9405\n",
      "Epoch 37/80\n",
      "864/864 [==============================] - 27s 32ms/step - loss: 0.1902 - accuracy: 0.9468 - val_loss: 0.1836 - val_accuracy: 0.9486\n",
      "Epoch 38/80\n",
      "864/864 [==============================] - 28s 32ms/step - loss: 0.2055 - accuracy: 0.9329 - val_loss: 0.1723 - val_accuracy: 0.9520\n",
      "Epoch 39/80\n",
      "864/864 [==============================] - 27s 32ms/step - loss: 0.1710 - accuracy: 0.9491 - val_loss: 0.1662 - val_accuracy: 0.9580\n",
      "Epoch 40/80\n",
      "864/864 [==============================] - 28s 32ms/step - loss: 0.1750 - accuracy: 0.9468 - val_loss: 0.1802 - val_accuracy: 0.9541\n",
      "Epoch 41/80\n",
      "864/864 [==============================] - 28s 32ms/step - loss: 0.1832 - accuracy: 0.9363 - val_loss: 0.1765 - val_accuracy: 0.9541\n",
      "Epoch 42/80\n",
      "864/864 [==============================] - 27s 32ms/step - loss: 0.1609 - accuracy: 0.9560 - val_loss: 0.1620 - val_accuracy: 0.9571\n",
      "Epoch 43/80\n",
      "864/864 [==============================] - 27s 32ms/step - loss: 0.1324 - accuracy: 0.9653 - val_loss: 0.1453 - val_accuracy: 0.9582\n",
      "Epoch 44/80\n",
      "864/864 [==============================] - 28s 32ms/step - loss: 0.1533 - accuracy: 0.9479 - val_loss: 0.1433 - val_accuracy: 0.9592\n",
      "Epoch 45/80\n",
      "864/864 [==============================] - 28s 32ms/step - loss: 0.1604 - accuracy: 0.9537 - val_loss: 0.1273 - val_accuracy: 0.9687\n",
      "Epoch 46/80\n",
      "864/864 [==============================] - 30s 34ms/step - loss: 0.1462 - accuracy: 0.9630 - val_loss: 0.1489 - val_accuracy: 0.9583\n",
      "Epoch 47/80\n",
      "864/864 [==============================] - 29s 34ms/step - loss: 0.1723 - accuracy: 0.9456 - val_loss: 0.1382 - val_accuracy: 0.9619\n",
      "Epoch 48/80\n",
      "864/864 [==============================] - 28s 33ms/step - loss: 0.1472 - accuracy: 0.9676 - val_loss: 0.1363 - val_accuracy: 0.9615\n",
      "Epoch 49/80\n",
      "864/864 [==============================] - 28s 32ms/step - loss: 0.1408 - accuracy: 0.9560 - val_loss: 0.1266 - val_accuracy: 0.9661\n",
      "Epoch 50/80\n",
      "864/864 [==============================] - 29s 34ms/step - loss: 0.1382 - accuracy: 0.9537 - val_loss: 0.1285 - val_accuracy: 0.9688\n",
      "Epoch 51/80\n",
      "864/864 [==============================] - 29s 34ms/step - loss: 0.1285 - accuracy: 0.9583 - val_loss: 0.1270 - val_accuracy: 0.9651\n",
      "Epoch 52/80\n",
      "864/864 [==============================] - 30s 34ms/step - loss: 0.1188 - accuracy: 0.9641 - val_loss: 0.1219 - val_accuracy: 0.9642\n",
      "Epoch 53/80\n",
      "864/864 [==============================] - 29s 34ms/step - loss: 0.1245 - accuracy: 0.9653 - val_loss: 0.1035 - val_accuracy: 0.9724\n",
      "Epoch 54/80\n",
      "864/864 [==============================] - 29s 34ms/step - loss: 0.1330 - accuracy: 0.9630 - val_loss: 0.1199 - val_accuracy: 0.9636\n",
      "Epoch 55/80\n",
      "864/864 [==============================] - 29s 34ms/step - loss: 0.1382 - accuracy: 0.9537 - val_loss: 0.1233 - val_accuracy: 0.9604\n",
      "Epoch 56/80\n",
      "864/864 [==============================] - 29s 33ms/step - loss: 0.1138 - accuracy: 0.9699 - val_loss: 0.0975 - val_accuracy: 0.9766\n",
      "Epoch 57/80\n",
      "864/864 [==============================] - 29s 33ms/step - loss: 0.1146 - accuracy: 0.9560 - val_loss: 0.0991 - val_accuracy: 0.9693\n",
      "Epoch 58/80\n",
      "864/864 [==============================] - 29s 33ms/step - loss: 0.1221 - accuracy: 0.9664 - val_loss: 0.1174 - val_accuracy: 0.9601\n",
      "Epoch 59/80\n",
      "864/864 [==============================] - 30s 34ms/step - loss: 0.1144 - accuracy: 0.9676 - val_loss: 0.1023 - val_accuracy: 0.9732\n",
      "Epoch 60/80\n",
      "864/864 [==============================] - 29s 33ms/step - loss: 0.1167 - accuracy: 0.9641 - val_loss: 0.1285 - val_accuracy: 0.9588\n",
      "Epoch 61/80\n",
      "864/864 [==============================] - 29s 34ms/step - loss: 0.0972 - accuracy: 0.9664 - val_loss: 0.0876 - val_accuracy: 0.9730\n",
      "Epoch 62/80\n",
      "864/864 [==============================] - 29s 33ms/step - loss: 0.0895 - accuracy: 0.9745 - val_loss: 0.0956 - val_accuracy: 0.9709\n",
      "Epoch 63/80\n",
      "864/864 [==============================] - 30s 34ms/step - loss: 0.0950 - accuracy: 0.9664 - val_loss: 0.0979 - val_accuracy: 0.9657\n",
      "Epoch 64/80\n",
      "864/864 [==============================] - 30s 35ms/step - loss: 0.0873 - accuracy: 0.9803 - val_loss: 0.1027 - val_accuracy: 0.9684\n",
      "Epoch 65/80\n",
      "864/864 [==============================] - 30s 34ms/step - loss: 0.0969 - accuracy: 0.9711 - val_loss: 0.0896 - val_accuracy: 0.9714\n",
      "Epoch 66/80\n",
      "864/864 [==============================] - 30s 35ms/step - loss: 0.0955 - accuracy: 0.9711 - val_loss: 0.0876 - val_accuracy: 0.9726\n",
      "Epoch 67/80\n",
      "864/864 [==============================] - 30s 35ms/step - loss: 0.0903 - accuracy: 0.9664 - val_loss: 0.0916 - val_accuracy: 0.9678\n",
      "Epoch 68/80\n",
      "864/864 [==============================] - 31s 35ms/step - loss: 0.0842 - accuracy: 0.9792 - val_loss: 0.1040 - val_accuracy: 0.9631\n",
      "Epoch 69/80\n",
      "864/864 [==============================] - 31s 35ms/step - loss: 0.0878 - accuracy: 0.9711 - val_loss: 0.0773 - val_accuracy: 0.9745\n",
      "Epoch 70/80\n",
      "864/864 [==============================] - 31s 35ms/step - loss: 0.0845 - accuracy: 0.9745 - val_loss: 0.0848 - val_accuracy: 0.9697\n",
      "Epoch 71/80\n",
      "864/864 [==============================] - 30s 35ms/step - loss: 0.0706 - accuracy: 0.9803 - val_loss: 0.0862 - val_accuracy: 0.9705\n",
      "Epoch 72/80\n",
      "864/864 [==============================] - 31s 36ms/step - loss: 0.0892 - accuracy: 0.9699 - val_loss: 0.0716 - val_accuracy: 0.9775\n",
      "Epoch 73/80\n",
      "864/864 [==============================] - 30s 35ms/step - loss: 0.0816 - accuracy: 0.9734 - val_loss: 0.0903 - val_accuracy: 0.9708\n",
      "Epoch 74/80\n",
      "864/864 [==============================] - 29s 34ms/step - loss: 0.0826 - accuracy: 0.9780 - val_loss: 0.0719 - val_accuracy: 0.9744\n",
      "Epoch 75/80\n",
      "864/864 [==============================] - 29s 34ms/step - loss: 0.0690 - accuracy: 0.9803 - val_loss: 0.0790 - val_accuracy: 0.9732\n",
      "Epoch 76/80\n",
      "864/864 [==============================] - 29s 34ms/step - loss: 0.0729 - accuracy: 0.9745 - val_loss: 0.0678 - val_accuracy: 0.9783\n",
      "Epoch 77/80\n",
      "864/864 [==============================] - 29s 33ms/step - loss: 0.0701 - accuracy: 0.9769 - val_loss: 0.0724 - val_accuracy: 0.9783\n",
      "Epoch 78/80\n",
      "864/864 [==============================] - 29s 34ms/step - loss: 0.0780 - accuracy: 0.9792 - val_loss: 0.0610 - val_accuracy: 0.9852\n",
      "Epoch 79/80\n",
      "864/864 [==============================] - 29s 33ms/step - loss: 0.0618 - accuracy: 0.9803 - val_loss: 0.0731 - val_accuracy: 0.9756\n",
      "Epoch 80/80\n",
      "864/864 [==============================] - 29s 33ms/step - loss: 0.0674 - accuracy: 0.9803 - val_loss: 0.0849 - val_accuracy: 0.9681\n"
     ]
    },
    {
     "data": {
      "text/plain": [
       "<tensorflow.python.keras.callbacks.History at 0x185f4a3af60>"
      ]
     },
     "execution_count": 22,
     "metadata": {},
     "output_type": "execute_result"
    }
   ],
   "source": [
    "batch_size = 1\n",
    "callbacks = [tensorboard_callback, stop_training_callback()]\n",
    "model.fit_generator(\n",
    "      train_generator,\n",
    "      steps_per_epoch = train_generator.samples // batch_size,\n",
    "      validation_data = validation_generator, \n",
    "      validation_steps = validation_generator.samples // batch_size,\n",
    "      epochs = 80)"
   ]
  },
  {
   "cell_type": "code",
   "execution_count": 0,
   "metadata": {
    "colab": {},
    "colab_type": "code",
    "id": "qFevjr5YcSDU"
   },
   "outputs": [],
   "source": [
    "# !kill 8400\n",
    "%load_ext tensorboard\n",
    "%tensorboard --logdir logs/fit"
   ]
  },
  {
   "cell_type": "code",
   "execution_count": 10,
   "metadata": {},
   "outputs": [
    {
     "ename": "NameError",
     "evalue": "name 'model' is not defined",
     "output_type": "error",
     "traceback": [
      "\u001b[1;31m---------------------------------------------------------------------------\u001b[0m",
      "\u001b[1;31mNameError\u001b[0m                                 Traceback (most recent call last)",
      "\u001b[1;32m<ipython-input-10-6ceb9eac8c9a>\u001b[0m in \u001b[0;36m<module>\u001b[1;34m\u001b[0m\n\u001b[0;32m      1\u001b[0m \u001b[1;31m# # save model and architecture to single file\u001b[0m\u001b[1;33m\u001b[0m\u001b[1;33m\u001b[0m\u001b[1;33m\u001b[0m\u001b[0m\n\u001b[1;32m----> 2\u001b[1;33m \u001b[0mmodel\u001b[0m\u001b[1;33m.\u001b[0m\u001b[0msave\u001b[0m\u001b[1;33m(\u001b[0m\u001b[1;34m\"ocrmodel.h5\"\u001b[0m\u001b[1;33m)\u001b[0m\u001b[1;33m\u001b[0m\u001b[1;33m\u001b[0m\u001b[0m\n\u001b[0m\u001b[0;32m      3\u001b[0m \u001b[0mprint\u001b[0m\u001b[1;33m(\u001b[0m\u001b[1;34m\"Saved model to disk\"\u001b[0m\u001b[1;33m)\u001b[0m\u001b[1;33m\u001b[0m\u001b[1;33m\u001b[0m\u001b[0m\n",
      "\u001b[1;31mNameError\u001b[0m: name 'model' is not defined"
     ]
    }
   ],
   "source": [
    "# # save model and architecture to single file\n",
    "model.save(\"ocrmodel.h5\")\n",
    "print(\"Saved model to disk\")"
   ]
  },
  {
   "cell_type": "code",
   "execution_count": 1,
   "metadata": {},
   "outputs": [
    {
     "ename": "NameError",
     "evalue": "name 'tf' is not defined",
     "output_type": "error",
     "traceback": [
      "\u001b[1;31m---------------------------------------------------------------------------\u001b[0m",
      "\u001b[1;31mNameError\u001b[0m                                 Traceback (most recent call last)",
      "\u001b[1;32m<ipython-input-1-935d15274631>\u001b[0m in \u001b[0;36m<module>\u001b[1;34m\u001b[0m\n\u001b[1;32m----> 1\u001b[1;33m \u001b[0mmodel\u001b[0m \u001b[1;33m=\u001b[0m \u001b[0mtf\u001b[0m\u001b[1;33m.\u001b[0m\u001b[0mkeras\u001b[0m\u001b[1;33m.\u001b[0m\u001b[0mmodels\u001b[0m\u001b[1;33m.\u001b[0m\u001b[0mload_model\u001b[0m\u001b[1;33m(\u001b[0m\u001b[1;34m'ocrmodel.h5'\u001b[0m\u001b[1;33m)\u001b[0m\u001b[1;33m\u001b[0m\u001b[1;33m\u001b[0m\u001b[0m\n\u001b[0m",
      "\u001b[1;31mNameError\u001b[0m: name 'tf' is not defined"
     ]
    }
   ],
   "source": [
    "model = tf.keras.models.load_model('ocrmodel.h5')"
   ]
  },
  {
   "cell_type": "code",
   "execution_count": 11,
   "metadata": {
    "colab": {
     "base_uri": "https://localhost:8080/",
     "height": 34
    },
    "colab_type": "code",
    "id": "3PICNwtZUDAD",
    "outputId": "483eda61-5d3a-4600-ab47-e1cd1bb6058e"
   },
   "outputs": [
    {
     "ename": "NameError",
     "evalue": "name 'model' is not defined",
     "output_type": "error",
     "traceback": [
      "\u001b[1;31m---------------------------------------------------------------------------\u001b[0m",
      "\u001b[1;31mNameError\u001b[0m                                 Traceback (most recent call last)",
      "\u001b[1;32m<ipython-input-11-f08f8385f52b>\u001b[0m in \u001b[0;36m<module>\u001b[1;34m\u001b[0m\n\u001b[0;32m     24\u001b[0m     \u001b[1;32mreturn\u001b[0m \u001b[0mplate_number\u001b[0m\u001b[1;33m\u001b[0m\u001b[1;33m\u001b[0m\u001b[0m\n\u001b[0;32m     25\u001b[0m \u001b[1;33m\u001b[0m\u001b[0m\n\u001b[1;32m---> 26\u001b[1;33m \u001b[0mprint\u001b[0m\u001b[1;33m(\u001b[0m\u001b[0mshow_results\u001b[0m\u001b[1;33m(\u001b[0m\u001b[1;33m)\u001b[0m\u001b[1;33m)\u001b[0m\u001b[1;33m\u001b[0m\u001b[1;33m\u001b[0m\u001b[0m\n\u001b[0m",
      "\u001b[1;32m<ipython-input-11-f08f8385f52b>\u001b[0m in \u001b[0;36mshow_results\u001b[1;34m()\u001b[0m\n\u001b[0;32m     16\u001b[0m         \u001b[0mimg\u001b[0m \u001b[1;33m=\u001b[0m \u001b[0mfix_dimension\u001b[0m\u001b[1;33m(\u001b[0m\u001b[0mimg_\u001b[0m\u001b[1;33m)\u001b[0m\u001b[1;33m\u001b[0m\u001b[1;33m\u001b[0m\u001b[0m\n\u001b[0;32m     17\u001b[0m         \u001b[0mimg\u001b[0m \u001b[1;33m=\u001b[0m \u001b[0mimg\u001b[0m\u001b[1;33m.\u001b[0m\u001b[0mreshape\u001b[0m\u001b[1;33m(\u001b[0m\u001b[1;36m1\u001b[0m\u001b[1;33m,\u001b[0m\u001b[1;36m28\u001b[0m\u001b[1;33m,\u001b[0m\u001b[1;36m28\u001b[0m\u001b[1;33m,\u001b[0m\u001b[1;36m3\u001b[0m\u001b[1;33m)\u001b[0m \u001b[1;31m#preparing image for the model\u001b[0m\u001b[1;33m\u001b[0m\u001b[1;33m\u001b[0m\u001b[0m\n\u001b[1;32m---> 18\u001b[1;33m         \u001b[0my_\u001b[0m \u001b[1;33m=\u001b[0m \u001b[0mmodel\u001b[0m\u001b[1;33m.\u001b[0m\u001b[0mpredict_classes\u001b[0m\u001b[1;33m(\u001b[0m\u001b[0mimg\u001b[0m\u001b[1;33m)\u001b[0m\u001b[1;33m[\u001b[0m\u001b[1;36m0\u001b[0m\u001b[1;33m]\u001b[0m \u001b[1;31m#predicting the class\u001b[0m\u001b[1;33m\u001b[0m\u001b[1;33m\u001b[0m\u001b[0m\n\u001b[0m\u001b[0;32m     19\u001b[0m         \u001b[0mcharacter\u001b[0m \u001b[1;33m=\u001b[0m \u001b[0mdic\u001b[0m\u001b[1;33m[\u001b[0m\u001b[0my_\u001b[0m\u001b[1;33m]\u001b[0m \u001b[1;31m#\u001b[0m\u001b[1;33m\u001b[0m\u001b[1;33m\u001b[0m\u001b[0m\n\u001b[0;32m     20\u001b[0m         \u001b[0moutput\u001b[0m\u001b[1;33m.\u001b[0m\u001b[0mappend\u001b[0m\u001b[1;33m(\u001b[0m\u001b[0mcharacter\u001b[0m\u001b[1;33m)\u001b[0m \u001b[1;31m#storing the result in a list\u001b[0m\u001b[1;33m\u001b[0m\u001b[1;33m\u001b[0m\u001b[0m\n",
      "\u001b[1;31mNameError\u001b[0m: name 'model' is not defined"
     ]
    }
   ],
   "source": [
    "def fix_dimension(img): \n",
    "  new_img = np.zeros((28,28,3))\n",
    "  for i in range(3):\n",
    "    new_img[:,:,i] = img\n",
    "  return new_img\n",
    "  \n",
    "def show_results():\n",
    "    dic = {}\n",
    "    characters = '0123456789ABCDEFGHIJKLMNOPQRSTUVWXYZ'\n",
    "    for i,c in enumerate(characters):\n",
    "        dic[i] = c\n",
    "\n",
    "    output = []\n",
    "    for i,ch in enumerate(char): #iterating over the characters\n",
    "        img_ = cv2.resize(ch, (28,28))\n",
    "        img = fix_dimension(img_)\n",
    "        img = img.reshape(1,28,28,3) #preparing image for the model\n",
    "        y_ = model.predict_classes(img)[0] #predicting the class\n",
    "        character = dic[y_] #\n",
    "        output.append(character) #storing the result in a list\n",
    "        \n",
    "    plate_number = ''.join(output)\n",
    "    \n",
    "    return plate_number\n",
    "\n",
    "print(show_results())"
   ]
  },
  {
   "cell_type": "code",
   "execution_count": 15,
   "metadata": {
    "colab": {
     "base_uri": "https://localhost:8080/",
     "height": 373
    },
    "colab_type": "code",
    "id": "urZpH4YFUDAI",
    "outputId": "6688d92e-0c11-48c7-baa3-1c44b36873aa"
   },
   "outputs": [
    {
     "ename": "NameError",
     "evalue": "name 'model' is not defined",
     "output_type": "error",
     "traceback": [
      "\u001b[1;31m---------------------------------------------------------------------------\u001b[0m",
      "\u001b[1;31mNameError\u001b[0m                                 Traceback (most recent call last)",
      "\u001b[1;32m<ipython-input-15-224b74688e5a>\u001b[0m in \u001b[0;36m<module>\u001b[1;34m\u001b[0m\n\u001b[0;32m      4\u001b[0m     \u001b[0mplt\u001b[0m\u001b[1;33m.\u001b[0m\u001b[0msubplot\u001b[0m\u001b[1;33m(\u001b[0m\u001b[1;36m3\u001b[0m\u001b[1;33m,\u001b[0m\u001b[1;36m4\u001b[0m\u001b[1;33m,\u001b[0m\u001b[0mi\u001b[0m\u001b[1;33m+\u001b[0m\u001b[1;36m1\u001b[0m\u001b[1;33m)\u001b[0m\u001b[1;33m\u001b[0m\u001b[1;33m\u001b[0m\u001b[0m\n\u001b[0;32m      5\u001b[0m     \u001b[0mplt\u001b[0m\u001b[1;33m.\u001b[0m\u001b[0mimshow\u001b[0m\u001b[1;33m(\u001b[0m\u001b[0mimg\u001b[0m\u001b[1;33m,\u001b[0m\u001b[0mcmap\u001b[0m\u001b[1;33m=\u001b[0m\u001b[1;34m'gray'\u001b[0m\u001b[1;33m)\u001b[0m\u001b[1;33m\u001b[0m\u001b[1;33m\u001b[0m\u001b[0m\n\u001b[1;32m----> 6\u001b[1;33m     \u001b[0mplt\u001b[0m\u001b[1;33m.\u001b[0m\u001b[0mtitle\u001b[0m\u001b[1;33m(\u001b[0m\u001b[1;34mf'predicted: {show_results()[i]}'\u001b[0m\u001b[1;33m)\u001b[0m\u001b[1;33m\u001b[0m\u001b[1;33m\u001b[0m\u001b[0m\n\u001b[0m\u001b[0;32m      7\u001b[0m     \u001b[0mplt\u001b[0m\u001b[1;33m.\u001b[0m\u001b[0maxis\u001b[0m\u001b[1;33m(\u001b[0m\u001b[1;34m'off'\u001b[0m\u001b[1;33m)\u001b[0m\u001b[1;33m\u001b[0m\u001b[1;33m\u001b[0m\u001b[0m\n\u001b[0;32m      8\u001b[0m \u001b[0mplt\u001b[0m\u001b[1;33m.\u001b[0m\u001b[0mshow\u001b[0m\u001b[1;33m(\u001b[0m\u001b[1;33m)\u001b[0m\u001b[1;33m\u001b[0m\u001b[1;33m\u001b[0m\u001b[0m\n",
      "\u001b[1;32m<ipython-input-11-f08f8385f52b>\u001b[0m in \u001b[0;36mshow_results\u001b[1;34m()\u001b[0m\n\u001b[0;32m     16\u001b[0m         \u001b[0mimg\u001b[0m \u001b[1;33m=\u001b[0m \u001b[0mfix_dimension\u001b[0m\u001b[1;33m(\u001b[0m\u001b[0mimg_\u001b[0m\u001b[1;33m)\u001b[0m\u001b[1;33m\u001b[0m\u001b[1;33m\u001b[0m\u001b[0m\n\u001b[0;32m     17\u001b[0m         \u001b[0mimg\u001b[0m \u001b[1;33m=\u001b[0m \u001b[0mimg\u001b[0m\u001b[1;33m.\u001b[0m\u001b[0mreshape\u001b[0m\u001b[1;33m(\u001b[0m\u001b[1;36m1\u001b[0m\u001b[1;33m,\u001b[0m\u001b[1;36m28\u001b[0m\u001b[1;33m,\u001b[0m\u001b[1;36m28\u001b[0m\u001b[1;33m,\u001b[0m\u001b[1;36m3\u001b[0m\u001b[1;33m)\u001b[0m \u001b[1;31m#preparing image for the model\u001b[0m\u001b[1;33m\u001b[0m\u001b[1;33m\u001b[0m\u001b[0m\n\u001b[1;32m---> 18\u001b[1;33m         \u001b[0my_\u001b[0m \u001b[1;33m=\u001b[0m \u001b[0mmodel\u001b[0m\u001b[1;33m.\u001b[0m\u001b[0mpredict_classes\u001b[0m\u001b[1;33m(\u001b[0m\u001b[0mimg\u001b[0m\u001b[1;33m)\u001b[0m\u001b[1;33m[\u001b[0m\u001b[1;36m0\u001b[0m\u001b[1;33m]\u001b[0m \u001b[1;31m#predicting the class\u001b[0m\u001b[1;33m\u001b[0m\u001b[1;33m\u001b[0m\u001b[0m\n\u001b[0m\u001b[0;32m     19\u001b[0m         \u001b[0mcharacter\u001b[0m \u001b[1;33m=\u001b[0m \u001b[0mdic\u001b[0m\u001b[1;33m[\u001b[0m\u001b[0my_\u001b[0m\u001b[1;33m]\u001b[0m \u001b[1;31m#\u001b[0m\u001b[1;33m\u001b[0m\u001b[1;33m\u001b[0m\u001b[0m\n\u001b[0;32m     20\u001b[0m         \u001b[0moutput\u001b[0m\u001b[1;33m.\u001b[0m\u001b[0mappend\u001b[0m\u001b[1;33m(\u001b[0m\u001b[0mcharacter\u001b[0m\u001b[1;33m)\u001b[0m \u001b[1;31m#storing the result in a list\u001b[0m\u001b[1;33m\u001b[0m\u001b[1;33m\u001b[0m\u001b[0m\n",
      "\u001b[1;31mNameError\u001b[0m: name 'model' is not defined"
     ]
    },
    {
     "data": {
      "image/png": "[encoded data removed]",
      "text/plain": [
       "<Figure size 720x432 with 1 Axes>"
      ]
     },
     "metadata": {
      "needs_background": "light"
     },
     "output_type": "display_data"
    }
   ],
   "source": [
    "plt.figure(figsize=(10,6))\n",
    "for i,ch in enumerate(char):\n",
    "    img = cv2.resize(ch, (28,28))\n",
    "    plt.subplot(3,4,i+1)\n",
    "    plt.imshow(img,cmap='gray')\n",
    "    plt.title(f'predicted: {show_results()[i]}')\n",
    "    plt.axis('off')\n",
    "plt.show()\n",
    "\n"
   ]
  },
  {
   "cell_type": "code",
   "execution_count": 14,
   "metadata": {
    "colab": {},
    "colab_type": "code",
    "id": "uBboEZgAUDAT"
   },
   "outputs": [
    {
     "ename": "NameError",
     "evalue": "name 'model' is not defined",
     "output_type": "error",
     "traceback": [
      "\u001b[1;31m---------------------------------------------------------------------------\u001b[0m",
      "\u001b[1;31mNameError\u001b[0m                                 Traceback (most recent call last)",
      "\u001b[1;32m<ipython-input-14-d7f628f41ab9>\u001b[0m in \u001b[0;36m<module>\u001b[1;34m\u001b[0m\n\u001b[0;32m      1\u001b[0m \u001b[1;32mfor\u001b[0m \u001b[0mi\u001b[0m\u001b[1;33m,\u001b[0m\u001b[0mch\u001b[0m \u001b[1;32min\u001b[0m \u001b[0menumerate\u001b[0m\u001b[1;33m(\u001b[0m\u001b[0mchar\u001b[0m\u001b[1;33m)\u001b[0m\u001b[1;33m:\u001b[0m\u001b[1;33m\u001b[0m\u001b[1;33m\u001b[0m\u001b[0m\n\u001b[1;32m----> 2\u001b[1;33m      \u001b[0mprint\u001b[0m\u001b[1;33m(\u001b[0m\u001b[0mshow_results\u001b[0m\u001b[1;33m(\u001b[0m\u001b[1;33m)\u001b[0m\u001b[1;33m[\u001b[0m\u001b[0mi\u001b[0m\u001b[1;33m]\u001b[0m\u001b[1;33m)\u001b[0m\u001b[1;33m\u001b[0m\u001b[1;33m\u001b[0m\u001b[0m\n\u001b[0m\u001b[0;32m      3\u001b[0m \u001b[1;33m\u001b[0m\u001b[0m\n",
      "\u001b[1;32m<ipython-input-11-f08f8385f52b>\u001b[0m in \u001b[0;36mshow_results\u001b[1;34m()\u001b[0m\n\u001b[0;32m     16\u001b[0m         \u001b[0mimg\u001b[0m \u001b[1;33m=\u001b[0m \u001b[0mfix_dimension\u001b[0m\u001b[1;33m(\u001b[0m\u001b[0mimg_\u001b[0m\u001b[1;33m)\u001b[0m\u001b[1;33m\u001b[0m\u001b[1;33m\u001b[0m\u001b[0m\n\u001b[0;32m     17\u001b[0m         \u001b[0mimg\u001b[0m \u001b[1;33m=\u001b[0m \u001b[0mimg\u001b[0m\u001b[1;33m.\u001b[0m\u001b[0mreshape\u001b[0m\u001b[1;33m(\u001b[0m\u001b[1;36m1\u001b[0m\u001b[1;33m,\u001b[0m\u001b[1;36m28\u001b[0m\u001b[1;33m,\u001b[0m\u001b[1;36m28\u001b[0m\u001b[1;33m,\u001b[0m\u001b[1;36m3\u001b[0m\u001b[1;33m)\u001b[0m \u001b[1;31m#preparing image for the model\u001b[0m\u001b[1;33m\u001b[0m\u001b[1;33m\u001b[0m\u001b[0m\n\u001b[1;32m---> 18\u001b[1;33m         \u001b[0my_\u001b[0m \u001b[1;33m=\u001b[0m \u001b[0mmodel\u001b[0m\u001b[1;33m.\u001b[0m\u001b[0mpredict_classes\u001b[0m\u001b[1;33m(\u001b[0m\u001b[0mimg\u001b[0m\u001b[1;33m)\u001b[0m\u001b[1;33m[\u001b[0m\u001b[1;36m0\u001b[0m\u001b[1;33m]\u001b[0m \u001b[1;31m#predicting the class\u001b[0m\u001b[1;33m\u001b[0m\u001b[1;33m\u001b[0m\u001b[0m\n\u001b[0m\u001b[0;32m     19\u001b[0m         \u001b[0mcharacter\u001b[0m \u001b[1;33m=\u001b[0m \u001b[0mdic\u001b[0m\u001b[1;33m[\u001b[0m\u001b[0my_\u001b[0m\u001b[1;33m]\u001b[0m \u001b[1;31m#\u001b[0m\u001b[1;33m\u001b[0m\u001b[1;33m\u001b[0m\u001b[0m\n\u001b[0;32m     20\u001b[0m         \u001b[0moutput\u001b[0m\u001b[1;33m.\u001b[0m\u001b[0mappend\u001b[0m\u001b[1;33m(\u001b[0m\u001b[0mcharacter\u001b[0m\u001b[1;33m)\u001b[0m \u001b[1;31m#storing the result in a list\u001b[0m\u001b[1;33m\u001b[0m\u001b[1;33m\u001b[0m\u001b[0m\n",
      "\u001b[1;31mNameError\u001b[0m: name 'model' is not defined"
     ]
    }
   ],
   "source": [
    "for i,ch in enumerate(char):\n",
    "     print(show_results()[i])\n",
    "    "
   ]
  },
  {
   "cell_type": "code",
   "execution_count": null,
   "metadata": {},
   "outputs": [],
   "source": []
  }
 ],
 "metadata": {
  "accelerator": "GPU",
  "colab": {
   "collapsed_sections": [],
   "name": "ai_powered_license_plate_detector.ipynb",
   "provenance": []
  },
  "kernelspec": {
   "display_name": "Python 3",
   "language": "python",
   "name": "python3"
  },
  "language_info": {
   "codemirror_mode": {
    "name": "ipython",
    "version": 3
   },
   "file_extension": ".py",
   "mimetype": "text/x-python",
   "name": "python",
   "nbconvert_exporter": "python",
   "pygments_lexer": "ipython3",
   "version": "3.6.9"
  }
 },
 "nbformat": 4,
 "nbformat_minor": 1
}
